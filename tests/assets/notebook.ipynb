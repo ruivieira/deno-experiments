{
 "cells": [
  {
   "cell_type": "markdown",
   "id": "stretch-timothy",
   "metadata": {},
   "source": [
    "# Hill-climbing optimisation"
   ]
  },
  {
   "cell_type": "markdown",
   "id": "confused-germany",
   "metadata": {},
   "source": [
    "## Global maximum\n"
   ]
  },
  {
   "cell_type": "markdown",
   "id": "destroyed-dynamics",
   "metadata": {},
   "source": [
    "Let's try it with the function\n",
    "\n",
    "$$\n",
    "f(x,y) = e^{-\\left(x^2+y^2\\right)}\n",
    "$$"
   ]
  },
  {
   "cell_type": "code",
   "execution_count": 1,
   "id": "absolute-nicholas",
   "metadata": {},
   "outputs": [
    {
     "data": {
      "image/png": "[encoded data removed]",
      "text/plain": [
       "<Figure size 1008x720 with 1 Axes>"
      ]
     },
     "metadata": {
      "needs_background": "light"
     },
     "output_type": "display_data"
    }
   ],
   "source": [
    "import numpy as np\n",
    "import matplotlib.pyplot as plt\n",
    "from plotutils import *\n",
    "\n",
    "\n",
    "x = np.linspace(-2.0, 2.0, 1000)\n",
    "y = np.linspace(-2.0, 2.0, 1000)\n",
    "X, Y = np.meshgrid(x, y)\n",
    "\n",
    "Z = np.exp(-(X**2 + Y**2))\n",
    "\n",
    "fig,ax=plt.subplots(1,1)\n",
    "cp = ax.contourf(X, Y, Z, cmap=cmaps[1])\n",
    "\n",
    "ax.set_title('f(x,y)')\n",
    "ax.set_xlabel('x')\n",
    "ax.set_ylabel('y')\n",
    "plt.show()"
   ]
  },
  {
   "cell_type": "code",
   "execution_count": 2,
   "id": "emerging-nursery",
   "metadata": {},
   "outputs": [],
   "source": [
    "from gradient_free_optimizers import HillClimbingOptimizer\n",
    "\n",
    "search_space = {\n",
    "  \"x\": x,\n",
    "  \"y\": y,\n",
    "}"
   ]
  },
  {
   "cell_type": "code",
   "execution_count": 3,
   "id": "applied-parameter",
   "metadata": {},
   "outputs": [],
   "source": [
    "opt = HillClimbingOptimizer(search_space)"
   ]
  },
  {
   "cell_type": "code",
   "execution_count": 4,
   "id": "accessory-antenna",
   "metadata": {},
   "outputs": [],
   "source": [
    "def f(pos):\n",
    "    x = pos[\"x\"]\n",
    "    y = pos[\"y\"]\n",
    "    z = np.exp(-(x**2 + y**2))\n",
    "    return z"
   ]
  },
  {
   "cell_type": "code",
   "execution_count": 5,
   "id": "dated-thickness",
   "metadata": {},
   "outputs": [
    {
     "name": "stdout",
     "output_type": "stream",
     "text": [
      "   Evaluation time   : 0.8271605968475342 sec    [33.25 %]\n",
      "   Optimization time : 1.6604328155517578 sec    [66.75 %]\n",
      "   Iteration time    : 2.487593412399292 sec    [12059.85 iter/sec]\n",
      " \n"
     ]
    }
   ],
   "source": [
    "result = opt.search(f, \n",
    "                    n_iter=30000, \n",
    "                    verbosity=['print_times'], \n",
    "                    random_state=23)"
   ]
  },
  {
   "cell_type": "code",
   "execution_count": 6,
   "id": "aerial-turner",
   "metadata": {},
   "outputs": [
    {
     "data": {
      "text/html": [
       "<div>\n",
       "<style scoped>\n",
       "    .dataframe tbody tr th:only-of-type {\n",
       "        vertical-align: middle;\n",
       "    }\n",
       "\n",
       "    .dataframe tbody tr th {\n",
       "        vertical-align: top;\n",
       "    }\n",
       "\n",
       "    .dataframe thead th {\n",
       "        text-align: right;\n",
       "    }\n",
       "</style>\n",
       "<table border=\"1\" class=\"dataframe\">\n",
       "  <thead>\n",
       "    <tr style=\"text-align: right;\">\n",
       "      <th></th>\n",
       "      <th>score</th>\n",
       "      <th>x</th>\n",
       "      <th>y</th>\n",
       "      <th>eval_time</th>\n",
       "      <th>iter_time</th>\n",
       "    </tr>\n",
       "  </thead>\n",
       "  <tbody>\n",
       "    <tr>\n",
       "      <th>0</th>\n",
       "      <td>0.010</td>\n",
       "      <td>1.792</td>\n",
       "      <td>1.195</td>\n",
       "      <td>0.000</td>\n",
       "      <td>0.000</td>\n",
       "    </tr>\n",
       "    <tr>\n",
       "      <th>1</th>\n",
       "      <td>0.015</td>\n",
       "      <td>1.888</td>\n",
       "      <td>-0.815</td>\n",
       "      <td>0.000</td>\n",
       "      <td>0.000</td>\n",
       "    </tr>\n",
       "    <tr>\n",
       "      <th>2</th>\n",
       "      <td>0.411</td>\n",
       "      <td>-0.667</td>\n",
       "      <td>-0.667</td>\n",
       "      <td>0.000</td>\n",
       "      <td>0.000</td>\n",
       "    </tr>\n",
       "    <tr>\n",
       "      <th>3</th>\n",
       "      <td>0.411</td>\n",
       "      <td>-0.667</td>\n",
       "      <td>0.667</td>\n",
       "      <td>0.000</td>\n",
       "      <td>0.000</td>\n",
       "    </tr>\n",
       "    <tr>\n",
       "      <th>4</th>\n",
       "      <td>0.411</td>\n",
       "      <td>0.667</td>\n",
       "      <td>-0.667</td>\n",
       "      <td>0.000</td>\n",
       "      <td>0.000</td>\n",
       "    </tr>\n",
       "    <tr>\n",
       "      <th>...</th>\n",
       "      <td>...</td>\n",
       "      <td>...</td>\n",
       "      <td>...</td>\n",
       "      <td>...</td>\n",
       "      <td>...</td>\n",
       "    </tr>\n",
       "    <tr>\n",
       "      <th>29995</th>\n",
       "      <td>0.953</td>\n",
       "      <td>0.178</td>\n",
       "      <td>0.126</td>\n",
       "      <td>0.000</td>\n",
       "      <td>0.000</td>\n",
       "    </tr>\n",
       "    <tr>\n",
       "      <th>29996</th>\n",
       "      <td>0.981</td>\n",
       "      <td>-0.138</td>\n",
       "      <td>0.018</td>\n",
       "      <td>0.000</td>\n",
       "      <td>0.000</td>\n",
       "    </tr>\n",
       "    <tr>\n",
       "      <th>29997</th>\n",
       "      <td>0.991</td>\n",
       "      <td>-0.082</td>\n",
       "      <td>0.050</td>\n",
       "      <td>0.000</td>\n",
       "      <td>0.000</td>\n",
       "    </tr>\n",
       "    <tr>\n",
       "      <th>29998</th>\n",
       "      <td>0.995</td>\n",
       "      <td>-0.058</td>\n",
       "      <td>-0.038</td>\n",
       "      <td>0.000</td>\n",
       "      <td>0.000</td>\n",
       "    </tr>\n",
       "    <tr>\n",
       "      <th>29999</th>\n",
       "      <td>0.974</td>\n",
       "      <td>0.158</td>\n",
       "      <td>0.042</td>\n",
       "      <td>0.000</td>\n",
       "      <td>0.000</td>\n",
       "    </tr>\n",
       "  </tbody>\n",
       "</table>\n",
       "<p>30000 rows × 5 columns</p>\n",
       "</div>"
      ],
      "text/plain": [
       "       score      x      y  eval_time  iter_time\n",
       "0      0.010  1.792  1.195      0.000      0.000\n",
       "1      0.015  1.888 -0.815      0.000      0.000\n",
       "2      0.411 -0.667 -0.667      0.000      0.000\n",
       "3      0.411 -0.667  0.667      0.000      0.000\n",
       "4      0.411  0.667 -0.667      0.000      0.000\n",
       "...      ...    ...    ...        ...        ...\n",
       "29995  0.953  0.178  0.126      0.000      0.000\n",
       "29996  0.981 -0.138  0.018      0.000      0.000\n",
       "29997  0.991 -0.082  0.050      0.000      0.000\n",
       "29998  0.995 -0.058 -0.038      0.000      0.000\n",
       "29999  0.974  0.158  0.042      0.000      0.000\n",
       "\n",
       "[30000 rows x 5 columns]"
      ]
     },
     "execution_count": 6,
     "metadata": {},
     "output_type": "execute_result"
    }
   ],
   "source": [
    "opt.results"
   ]
  },
  {
   "cell_type": "markdown",
   "id": "infinite-iceland",
   "metadata": {},
   "source": [
    "![SegmentLocal](./images/hill-climbing-1.gif \"segment\")"
   ]
  },
  {
   "cell_type": "markdown",
   "id": "comprehensive-applicant",
   "metadata": {},
   "source": [
    "## Local maximum\n",
    "\n",
    "Let's try it with the function\n",
    "\n",
    "$$\n",
    "f(x,y) = e^{-\\left(x^2+y^2\\right)}+2e^{-\\left((x-1.7)^2+(y-1.7)^2\\right)}\n",
    "$$"
   ]
  },
  {
   "cell_type": "code",
   "execution_count": 7,
   "id": "practical-prize",
   "metadata": {},
   "outputs": [
    {
     "data": {
      "image/png": "[encoded data removed]",
      "text/plain": [
       "<Figure size 1008x720 with 1 Axes>"
      ]
     },
     "metadata": {
      "needs_background": "light"
     },
     "output_type": "display_data"
    }
   ],
   "source": [
    "x = np.linspace(-1.0, 3.0, 1000)\n",
    "y = np.linspace(-1.0, 3.0, 1000)\n",
    "X, Y = np.meshgrid(x, y)\n",
    "\n",
    "Z = np.exp(-(X**2 + Y**2))+2*np.exp(-((X-1.7)**2+(Y-1.7)**2))\n",
    "\n",
    "fig,ax=plt.subplots(1,1)\n",
    "cp = ax.contourf(X, Y, Z, cmap=cmaps[1])\n",
    "\n",
    "ax.set_title('f(x,y)')\n",
    "ax.set_xlabel('x')\n",
    "ax.set_ylabel('y')\n",
    "plt.show()"
   ]
  },
  {
   "cell_type": "code",
   "execution_count": 8,
   "id": "elegant-driving",
   "metadata": {},
   "outputs": [],
   "source": [
    "opt = HillClimbingOptimizer(search_space)"
   ]
  },
  {
   "cell_type": "code",
   "execution_count": 9,
   "id": "meaning-austria",
   "metadata": {},
   "outputs": [],
   "source": [
    "def f(pos):\n",
    "    x = pos[\"x\"]\n",
    "    y = pos[\"y\"]\n",
    "    z = np.exp(-(x**2 + y**2))+2*np.exp(-((x-1.7)**2+(y-1.7)**2))\n",
    "    return z"
   ]
  },
  {
   "cell_type": "code",
   "execution_count": 10,
   "id": "economic-albert",
   "metadata": {},
   "outputs": [
    {
     "name": "stdout",
     "output_type": "stream",
     "text": [
      "   Evaluation time   : 0.9191639423370361 sec    [35.42 %]\n",
      "   Optimization time : 1.6756830215454102 sec    [64.58 %]\n",
      "   Iteration time    : 2.5948469638824463 sec    [11561.38 iter/sec]\n",
      " \n"
     ]
    }
   ],
   "source": [
    "result = opt.search(f, \n",
    "                    n_iter=30000, \n",
    "                    verbosity=['print_times'], \n",
    "                    random_state=23)"
   ]
  },
  {
   "cell_type": "code",
   "execution_count": 11,
   "id": "falling-giving",
   "metadata": {},
   "outputs": [
    {
     "data": {
      "text/html": [
       "<div>\n",
       "<style scoped>\n",
       "    .dataframe tbody tr th:only-of-type {\n",
       "        vertical-align: middle;\n",
       "    }\n",
       "\n",
       "    .dataframe tbody tr th {\n",
       "        vertical-align: top;\n",
       "    }\n",
       "\n",
       "    .dataframe thead th {\n",
       "        text-align: right;\n",
       "    }\n",
       "</style>\n",
       "<table border=\"1\" class=\"dataframe\">\n",
       "  <thead>\n",
       "    <tr style=\"text-align: right;\">\n",
       "      <th></th>\n",
       "      <th>score</th>\n",
       "      <th>x</th>\n",
       "      <th>y</th>\n",
       "      <th>eval_time</th>\n",
       "      <th>iter_time</th>\n",
       "    </tr>\n",
       "  </thead>\n",
       "  <tbody>\n",
       "    <tr>\n",
       "      <th>0</th>\n",
       "      <td>1.547</td>\n",
       "      <td>1.792</td>\n",
       "      <td>1.195</td>\n",
       "      <td>0.000</td>\n",
       "      <td>0.000</td>\n",
       "    </tr>\n",
       "    <tr>\n",
       "      <th>1</th>\n",
       "      <td>0.018</td>\n",
       "      <td>1.888</td>\n",
       "      <td>-0.815</td>\n",
       "      <td>0.000</td>\n",
       "      <td>0.000</td>\n",
       "    </tr>\n",
       "    <tr>\n",
       "      <th>2</th>\n",
       "      <td>0.411</td>\n",
       "      <td>-0.667</td>\n",
       "      <td>-0.667</td>\n",
       "      <td>0.000</td>\n",
       "      <td>0.000</td>\n",
       "    </tr>\n",
       "    <tr>\n",
       "      <th>3</th>\n",
       "      <td>0.414</td>\n",
       "      <td>-0.667</td>\n",
       "      <td>0.667</td>\n",
       "      <td>0.000</td>\n",
       "      <td>0.000</td>\n",
       "    </tr>\n",
       "    <tr>\n",
       "      <th>4</th>\n",
       "      <td>0.414</td>\n",
       "      <td>0.667</td>\n",
       "      <td>-0.667</td>\n",
       "      <td>0.000</td>\n",
       "      <td>0.000</td>\n",
       "    </tr>\n",
       "    <tr>\n",
       "      <th>...</th>\n",
       "      <td>...</td>\n",
       "      <td>...</td>\n",
       "      <td>...</td>\n",
       "      <td>...</td>\n",
       "      <td>...</td>\n",
       "    </tr>\n",
       "    <tr>\n",
       "      <th>29995</th>\n",
       "      <td>1.915</td>\n",
       "      <td>1.872</td>\n",
       "      <td>1.820</td>\n",
       "      <td>0.000</td>\n",
       "      <td>0.000</td>\n",
       "    </tr>\n",
       "    <tr>\n",
       "      <th>29996</th>\n",
       "      <td>1.963</td>\n",
       "      <td>1.556</td>\n",
       "      <td>1.712</td>\n",
       "      <td>0.000</td>\n",
       "      <td>0.000</td>\n",
       "    </tr>\n",
       "    <tr>\n",
       "      <th>29997</th>\n",
       "      <td>1.984</td>\n",
       "      <td>1.612</td>\n",
       "      <td>1.744</td>\n",
       "      <td>0.000</td>\n",
       "      <td>0.000</td>\n",
       "    </tr>\n",
       "    <tr>\n",
       "      <th>29998</th>\n",
       "      <td>1.992</td>\n",
       "      <td>1.636</td>\n",
       "      <td>1.656</td>\n",
       "      <td>0.000</td>\n",
       "      <td>0.000</td>\n",
       "    </tr>\n",
       "    <tr>\n",
       "      <th>29999</th>\n",
       "      <td>1.954</td>\n",
       "      <td>1.852</td>\n",
       "      <td>1.736</td>\n",
       "      <td>0.000</td>\n",
       "      <td>0.000</td>\n",
       "    </tr>\n",
       "  </tbody>\n",
       "</table>\n",
       "<p>30000 rows × 5 columns</p>\n",
       "</div>"
      ],
      "text/plain": [
       "       score      x      y  eval_time  iter_time\n",
       "0      1.547  1.792  1.195      0.000      0.000\n",
       "1      0.018  1.888 -0.815      0.000      0.000\n",
       "2      0.411 -0.667 -0.667      0.000      0.000\n",
       "3      0.414 -0.667  0.667      0.000      0.000\n",
       "4      0.414  0.667 -0.667      0.000      0.000\n",
       "...      ...    ...    ...        ...        ...\n",
       "29995  1.915  1.872  1.820      0.000      0.000\n",
       "29996  1.963  1.556  1.712      0.000      0.000\n",
       "29997  1.984  1.612  1.744      0.000      0.000\n",
       "29998  1.992  1.636  1.656      0.000      0.000\n",
       "29999  1.954  1.852  1.736      0.000      0.000\n",
       "\n",
       "[30000 rows x 5 columns]"
      ]
     },
     "execution_count": 11,
     "metadata": {},
     "output_type": "execute_result"
    }
   ],
   "source": [
    "opt.results"
   ]
  },
  {
   "cell_type": "markdown",
   "id": "ancient-strap",
   "metadata": {},
   "source": [
    "![SegmentLocal](./images/hill-climbing-2.gif \"segment\")"
   ]
  },
  {
   "cell_type": "code",
   "execution_count": null,
   "id": "colonial-johnson",
   "metadata": {},
   "outputs": [],
   "source": []
  }
 ],
 "metadata": {
  "jupytext": {
   "formats": "ipynb,md"
  },
  "kernelspec": {
   "display_name": "ruivieira",
   "language": "python",
   "name": "ruivieira"
  },
  "language_info": {
   "codemirror_mode": {
    "name": "ipython",
    "version": 3
   },
   "file_extension": ".py",
   "mimetype": "text/x-python",
   "name": "python",
   "nbconvert_exporter": "python",
   "pygments_lexer": "ipython3",
   "version": "3.8.5"
  }
 },
 "nbformat": 4,
 "nbformat_minor": 5
}
